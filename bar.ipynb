{
 "cells": [
  {
   "cell_type": "code",
   "execution_count": null,
   "metadata": {
    "vscode": {
     "languageId": "plaintext"
    }
   },
   "outputs": [],
   "source": [
    "import pandas as pd\n",
    "import matplotlib.pyplot as plt\n",
    "\n",
    "# Load dataset\n",
    "bar_df = pd.read_csv(\"bar_assignment.csv\")  # Ensure the file is in the same directory\n",
    "\n",
    "# Convert 1 -> \"Yes\" and 0 -> \"No\"\n",
    "bar_df.replace({1: \"Yes\", 0: \"No\"}, inplace=True)\n",
    "\n",
    "# Check column names\n",
    "print(\"Columns in dataset:\", bar_df.columns)\n",
    "\n",
    "# Pivot data for stacked bar chart\n",
    "bar_pivot = pd.crosstab(bar_df['Category'], bar_df['Value'])  # Adjust 'Value' if needed\n",
    "\n",
    "# Plot\n",
    "plt.figure(figsize=(8, 5))\n",
    "bar_pivot.plot(kind='barh', stacked=True, color=['red', 'blue'])\n",
    "\n",
    "# Customize plot\n",
    "plt.title(\"Stacked Bar Chart\")\n",
    "plt.xlabel(\"Count\")\n",
    "plt.ylabel(\"Categories\")\n",
    "plt.legend(title=\"Legend\", loc=\"upper right\")\n",
    "\n",
    "# Save bar plot\n",
    "bar_plot_path = \"bar_plot.png\"\n",
    "plt.savefig(bar_plot_path)\n",
    "plt.show()  # Show plot in Jupyter Notebook\n"
   ]
  }
 ],
 "metadata": {
  "language_info": {
   "name": "python"
  }
 },
 "nbformat": 4,
 "nbformat_minor": 2
}
