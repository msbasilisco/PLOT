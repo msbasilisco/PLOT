{
 "cells": [
  {
   "cell_type": "code",
   "execution_count": null,
   "metadata": {
    "vscode": {
     "languageId": "plaintext"
    }
   },
   "outputs": [],
   "source": [
    "import pandas as pd\n",
    "import networkx as nx\n",
    "import matplotlib.pyplot as plt\n",
    "import numpy as np\n",
    "\n",
    "# Load dataset\n",
    "df = pd.read_csv(\"D:/Desktop/DATA ANALYTICS 3203/networks_assignment.csv\")\n",
    "\n",
    "# Extract nodes and edges\n",
    "nodes = list(df[\"LABELS\"])\n",
    "edges = []\n",
    "\n",
    "for index, row in df.iterrows():\n",
    "    source = row[\"LABELS\"]\n",
    "    for col in df.columns[1:]:\n",
    "        if row[col] > 0:\n",
    "            edges.append((source, col, row[col]))\n",
    "\n",
    "# Create Network Graph\n",
    "G = nx.Graph()\n",
    "\n",
    "# Define color mapping\n",
    "color_map = {\n",
    "    'D': 'blue', 'F': 'blue', 'I': 'blue', 'N': 'blue', 'S': 'blue',\n",
    "    'BIH': 'green', 'GEO': 'green', 'ISR': 'green', 'MNE': 'green', 'SRB': 'green',\n",
    "    'CHE': 'green', 'TUR': 'green', 'UKR': 'green', 'GBR': 'green', 'AUS': 'green',\n",
    "    'HKG': 'green', 'USA': 'green',\n",
    "    'AUT': 'yellow', 'BEL': 'yellow', 'BGR': 'yellow', 'HRV': 'yellow', 'CZE': 'yellow',\n",
    "    'EST': 'yellow', 'FRA': 'yellow', 'DEU': 'yellow', 'GRC': 'yellow', 'HUN': 'yellow',\n",
    "    'IRL': 'yellow', 'ITA': 'yellow', 'LVA': 'yellow', 'LUX': 'yellow', 'NLD': 'yellow',\n",
    "    'PRT': 'yellow', 'ROU': 'yellow', 'SVK': 'yellow', 'SVN': 'yellow', 'ESP': 'yellow'\n",
    "}\n",
    "\n",
    "# Add nodes with assigned colors\n",
    "for node in nodes:\n",
    "    G.add_node(node, color=color_map.get(node, \"gray\"))\n",
    "\n",
    "# Add edges\n",
    "for src, tgt, weight in edges:\n",
    "    G.add_edge(src, tgt, weight=weight)\n",
    "\n",
    "# Define pentagon layout for core nodes\n",
    "pentagon_nodes = ['D', 'F', 'I', 'N', 'S']\n",
    "angle = np.linspace(0, 2 * np.pi, 6)[:-1]  # Five points of a pentagon\n",
    "pentagon_positions = {node: (0.8 * np.cos(a), 0.8 * np.sin(a)) for node, a in zip(pentagon_nodes, angle)}\n",
    "\n",
    "# Use spring layout for remaining nodes to surround the pentagon\n",
    "remaining_nodes = list(set(G.nodes()) - set(pentagon_nodes))\n",
    "remaining_positions = nx.spring_layout(G.subgraph(remaining_nodes), seed=42, center=(0, 0), scale=3.0)\n",
    "\n",
    "# Merge positions\n",
    "pos = {**pentagon_positions, **remaining_positions}\n",
    "\n",
    "# Extract node colors\n",
    "node_colors = [color_map.get(node, \"gray\") for node in G.nodes()]\n",
    "\n",
    "# Draw the graph\n",
    "plt.figure(figsize=(12, 8))\n",
    "nx.draw(G, pos, with_labels=True, node_color=node_colors, edge_color=\"black\", node_size=800, font_size=15, font_family=\"Times New Roman\")\n",
    "plt.title(\"Network Graph\", fontsize=15, fontname=\"Times New Roman\")\n",
    "plt.show()\n"
   ]
  }
 ],
 "metadata": {
  "language_info": {
   "name": "python"
  }
 },
 "nbformat": 4,
 "nbformat_minor": 2
}
