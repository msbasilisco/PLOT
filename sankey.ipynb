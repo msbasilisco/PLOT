{
 "cells": [
  {
   "cell_type": "code",
   "execution_count": null,
   "metadata": {
    "vscode": {
     "languageId": "plaintext"
    }
   },
   "outputs": [],
   "source": [
    "import plotly.graph_objects as go\n",
    "import pandas as pd\n",
    "\n",
    "# Load dataset\n",
    "file_path = \"D:/Desktop/DATA ANALYTICS 3203/sankey_assignment.csv\"\n",
    "df = pd.read_csv(file_path)\n",
    "\n",
    "# Define source, target, and value lists for the Sankey diagram\n",
    "source = []\n",
    "target = []\n",
    "value = []\n",
    "link_colors = []\n",
    "\n",
    "# Define color mapping\n",
    "color_map = {\n",
    "    'OMP': '#008080', 'PS': '#FFB07C', 'CNP': '#FF8C00', 'RGS': '#9400D3',\n",
    "    'NRP': '#FF69B4', 'NCDM': '#FFD700', 'NMCCC': '#808000', 'PEC': '#00FFFF',\n",
    "    'S': '#87CEEB', 'I': '#ADD8E6', 'D': '#556B2F', 'F': '#B0E0E6', 'N': '#B0C4DE',\n",
    "    'Reg': '#008000', 'Aca': '#90EE90', 'Oth': '#90EE90'\n",
    "}\n",
    "\n",
    "# Extract connections from dataset\n",
    "for _, row in df.iterrows():\n",
    "    label = row['LABEL']\n",
    "    for col in df.columns[1:-3]:  # Connecting initial categories to intermediate labels\n",
    "        if row[col] > 0:\n",
    "            source.append(col)\n",
    "            target.append(label)\n",
    "            value.append(row[col])\n",
    "            link_colors.append(color_map.get(col, \"#CCCCCC\"))  # Assign color to the link\n",
    "\n",
    "    for col in df.columns[-3:]:  # Connecting intermediate labels to final labels\n",
    "        if row[col] > 0:\n",
    "            source.append(label)\n",
    "            target.append(col)\n",
    "            value.append(row[col])\n",
    "            link_colors.append(color_map.get(label, \"#CCCCCC\"))  # Assign color to the link\n",
    "\n",
    "# Create unique labels and map indices\n",
    "all_labels = list(set(source + target))\n",
    "label_indices = {label: i for i, label in enumerate(all_labels)}\n",
    "colors = [color_map.get(label, \"#CCCCCC\") for label in all_labels]  # Default gray if missing\n",
    "\n",
    "# Convert labels to indices for Sankey diagram\n",
    "source_indices = [label_indices[label] for label in source]\n",
    "target_indices = [label_indices[label] for label in target]\n",
    "\n",
    "# Create Sankey Diagram\n",
    "fig = go.Figure(go.Sankey(\n",
    "    node=dict(\n",
    "        pad=15, thickness=20,\n",
    "        label=all_labels,\n",
    "        color=colors\n",
    "    ),\n",
    "    link=dict(\n",
    "        source=source_indices,\n",
    "        target=target_indices,\n",
    "        value=value,\n",
    "        color=link_colors  # Assign colors to links\n",
    "    )\n",
    "))\n",
    "\n",
    "fig.update_layout(title_text=\"Sankey Diagram\", font=dict(family=\"Times New Roman\", size=15))\n",
    "fig.show()\n"
   ]
  }
 ],
 "metadata": {
  "language_info": {
   "name": "python"
  }
 },
 "nbformat": 4,
 "nbformat_minor": 2
}
